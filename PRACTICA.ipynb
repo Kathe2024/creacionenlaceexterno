{
  "nbformat": 4,
  "nbformat_minor": 0,
  "metadata": {
    "colab": {
      "provenance": [],
      "authorship_tag": "ABX9TyOReueQzxqMujbKJS83rRMT",
      "include_colab_link": true
    },
    "kernelspec": {
      "name": "python3",
      "display_name": "Python 3"
    },
    "language_info": {
      "name": "python"
    }
  },
  "cells": [
    {
      "cell_type": "markdown",
      "metadata": {
        "id": "view-in-github",
        "colab_type": "text"
      },
      "source": [
        "<a href=\"https://colab.research.google.com/github/Kathe2024/creacionenlaceexterno/blob/main/PRACTICA.ipynb\" target=\"_parent\"><img src=\"https://colab.research.google.com/assets/colab-badge.svg\" alt=\"Open In Colab\"/></a>"
      ]
    },
    {
      "cell_type": "code",
      "execution_count": null,
      "metadata": {
        "id": "BZzPkN7z06LS"
      },
      "outputs": [],
      "source": [
        "#**Hola Mundo**\n"
      ]
    },
    {
      "cell_type": "markdown",
      "source": [
        "#**Hola Mundo**\n"
      ],
      "metadata": {
        "id": "ucVgDyPK1l9T"
      }
    },
    {
      "cell_type": "markdown",
      "source": [
        "##*como estan*\n"
      ],
      "metadata": {
        "id": "wLXgsSaZ1xW-"
      }
    }
  ]
}